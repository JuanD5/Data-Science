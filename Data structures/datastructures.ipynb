{
 "cells": [
  {
   "cell_type": "markdown",
   "source": [
    "Hash table \r\n",
    "\r\n",
    "Mapea de llaves a valores como un diccionario\r\n",
    "\r\n",
    "Las llaves deben ser únicas pero los valores  pueden ser repetidos. \r\n",
    "\r\n",
    "\r\n",
    "SON USADAS PARA VER LA FRECUENCIA DE ALGO \r\n",
    "\r\n",
    "Por ejemplo : que tantas veces a aparecido esta palabra en un texto \r\n",
    "\r\n",
    "\r\n",
    "HASH FUNCTION H(X) es una función que mapea una llave x a un número en un rango fijo. \r\n",
    "\r\n",
    "H(X) = (X**2 -6X +9) %10 mapea cualquier entero a un rango entre [0,9]\r\n",
    "\r\n",
    "SI EL H(X) = H(Y) es posible que x y y sean iguales. Pero si sus hash functions no son iguales entonces se tiene una certeza completa de que x y y no son iguales. \r\n",
    "\r\n",
    "Siempre se debe obtener el mismo valor para un hash H(x) = y siempre, no otra cosa. \r\n",
    "\r\n",
    "Hash collision H(x) = H(y)\r\n",
    "\r\n",
    "Hashable : las llaves de la tabla no pueden ser listas ni sets, tuplas si. \r\n",
    "\r\n",
    "h(X) = x**2 +3 %10 \r\n",
    "\r\n",
    "si llega una pareja key-value (32, \"lauren425\")\r\n",
    "\r\n",
    "pasamos el valor de la llave al hashfunction\r\n",
    "\r\n",
    "h(32)  = (32**2 + 3)%10 = 7 \r\n",
    "\r\n",
    "entonces esa pareja se metera en la posición 7 de la tabla \r\n",
    "\r\n",
    "Si queremos saber quien está en la posición 7 de la tabla lo único que tenemos que hacer es calcular H(7)\r\n",
    "\r\n",
    "H(7) = (7**2 +3)%10 = LA POSICIÓN DENTRO DE LA TABLA y así ya se sabe cúal es la persona en esa posición. \r\n",
    "\r\n",
    "\r\n",
    "Según entiendo el hash function solo genera el índice a donde debe ir a parar la llave que le pasamos. \r\n",
    "\r\n"
   ],
   "metadata": {}
  },
  {
   "cell_type": "code",
   "execution_count": 13,
   "source": [
    "def twoSum(nums,target):\r\n",
    "        hashmap = {} # diccionario \r\n",
    "        for i in range(len(nums)):\r\n",
    "            complement = target - nums[i] # el complemento sería 9-número iésimo en el primer caso 2  lo cual daría 7 \r\n",
    "            if complement in hashmap: # si el complemento está en el hasmap como llave \r\n",
    "                return [i, hashmap[complement]] # retorne el  índice donde está en este momento  y  el índice del complemento \r\n",
    "            else: \r\n",
    "                hashmap[nums[i]] = i # key es el número 2,7,11,15 value es la posición 0,1,2,3\r\n",
    "\r\n",
    "# el hasmap será la llave el número de la lista y el value será la posición que ocupa dentro de la lista. \r\n",
    "twoSum(nums = [2,7,11,15], target= 9)            "
   ],
   "outputs": [
    {
     "output_type": "execute_result",
     "data": {
      "text/plain": [
       "[1, 0]"
      ]
     },
     "metadata": {},
     "execution_count": 13
    }
   ],
   "metadata": {}
  },
  {
   "cell_type": "code",
   "execution_count": 6,
   "source": [
    "nums = [2,7,11,15]\r\n",
    "x = range(len(nums))\r\n",
    "for i in x:\r\n",
    "    print(i)"
   ],
   "outputs": [
    {
     "output_type": "stream",
     "name": "stdout",
     "text": [
      "0\n",
      "1\n",
      "2\n",
      "3\n"
     ]
    }
   ],
   "metadata": {}
  },
  {
   "cell_type": "code",
   "execution_count": 12,
   "source": [
    "arr = [0,0,1,1,0]\r\n",
    "# subarray que tenga el mismo número de 1's y ceros\r\n",
    "# en este caso sería \r\n",
    "print(arr[:4])\r\n",
    "print(arr[1:])\r\n",
    "print(\" Estos dos arrays tienen el mismo número de 1's y 0's\")\r\n",
    "# la longitud tiene  que ser menor a la del array original \r\n",
    "# debe haber algo que cuente cuantos 0's van y cuantos 1's van \r\n",
    "# se debe cumplir que la cantidad de 0's sea igual a la cantidad de 1's\r\n",
    "# diccionario : llaves (0,1) values( count 0 , count 1)\r\n",
    "\r\n",
    "\r\n",
    "# Que haría yo:\r\n",
    "# Me paro en la primera posición miro si es 0 o 1\r\n",
    "# lo cuento \r\n",
    "# Paro en la posición siguiente y cuento si es 0 o 1 \r\n",
    "# Me detengo hasta cuando el número de 0 sea igual al número de 1's \r\n",
    "# retorno un array que vaya desde la posición inicial hasta la que me detuve \r\n",
    "# la longitud del subarray debe ser par \r\n",
    "\r\n",
    "# como debe ser el subarray más grande la longitud debe ser \r\n",
    "# multiplo de 2 \r\n",
    "# si por ejemplo la longitud inicial es 6 pues busca en un subarray de longitud 4 si ahí encontro que se cumpla la condición entonces ya no hay que buscar más \r\n",
    "# es decir no hay que buscar en array con longitud 2 \r\n",
    "\r\n"
   ],
   "outputs": [
    {
     "output_type": "stream",
     "name": "stdout",
     "text": [
      "[0, 0, 1, 1]\n",
      "[0, 1, 1, 0]\n",
      " Estos dos arrays tienen el mismo número de 1's y 0's\n"
     ]
    }
   ],
   "metadata": {}
  },
  {
   "cell_type": "code",
   "execution_count": null,
   "source": [
    "def subarray(array):\r\n",
    "    \r\n",
    "    has = dict.fromkeys([0,1])\r\n",
    "    for i in range(len(array)):\r\n",
    "        for j in range(len(array)-1):\r\n",
    "            \r\n",
    "\r\n",
    "\r\n",
    "\r\n",
    "        \r\n",
    "    return sub_array"
   ],
   "outputs": [],
   "metadata": {}
  },
  {
   "cell_type": "code",
   "execution_count": 16,
   "source": [
    "  if array[i] == 0:\r\n",
    "            has[0] +=1\r\n",
    "        else:\r\n",
    "            has[1] +=1   \r\n",
    "has = dict.fromkeys([0,1])\r\n",
    "print(has[0])"
   ],
   "outputs": [
    {
     "output_type": "stream",
     "name": "stdout",
     "text": [
      "None\n"
     ]
    }
   ],
   "metadata": {}
  },
  {
   "cell_type": "markdown",
   "source": [
    "Binary tree \r\n",
    "\r\n",
    "cada nodo tiene dos hijos y solo puede ser máximo dos \r\n",
    "\r\n",
    "en el binary tree search \r\n",
    "\r\n",
    "el primer valor se toma como la raiz \r\n",
    "\r\n",
    "y hacia la izquierda son numeros menores  y hacia la derecha mayores \r\n",
    "\r\n",
    "\r\n",
    "desde la punta todos los nodos que esten a tu izquierda deben ser menores que tu, los de la derecha si pueden ser mayores.\r\n",
    "\r\n",
    "Todos los nodos a tu derecha deben ser mayores. \r\n",
    "\r\n",
    "\r\n",
    "Preorder primero visitamos hacia la izquierda y luego hacia la derecha. si ya no podemos ir más hacia la izquierda nos devolvemos al parent y vamos a la derecha. Acá el root es el primer valor en la lista que vamos sacando de visitas. \r\n",
    "\r\n",
    "\r\n",
    "Preorder : root, left,right \r\n",
    "\r\n",
    "Inorder : left , (visit) root , right . Se obtiene los números de menor a mayor \r\n",
    "\r\n",
    "Postorder left, right , visit , solo hasta cuando ya le hayamos hecho al nodo left y right ahí si lo visitamos. El root siempre se visitará de último \r\n",
    "\r\n",
    "\r\n",
    "Si un elemento está en la posición i \r\n",
    "\r\n",
    "Su right child está en la posición 2*i+1 \r\n",
    "\r\n",
    "Su left child está en la posición 2*i \r\n",
    "\r\n",
    "Su parent node está en la posición (i/2)\r\n",
    "\r\n",
    "\r\n",
    "Los árboles siempre se llenan de arriba a abajo de izquierda a derecha para que sean un complete binary tree \r\n",
    "\r\n",
    "\r\n",
    "\r\n",
    "\r\n",
    "\r\n",
    "\r\n"
   ],
   "metadata": {}
  },
  {
   "cell_type": "code",
   "execution_count": 7,
   "source": [
    "\r\n",
    "\r\n",
    "class Queue(object):\r\n",
    "    def __init__(self):\r\n",
    "        self.items = []\r\n",
    "    def enqueue(self,item):\r\n",
    "        self.items.insert(0,item)\r\n",
    "    def dequeue(self):\r\n",
    "        if not self.is_empty():\r\n",
    "            return self.items.pop() # pop por default remueve el último elemento.    \r\n",
    "    def is_empty(self):\r\n",
    "        return len(self.items) == 0   \r\n",
    "    def peek(self):\r\n",
    "        if not self.is_empty():\r\n",
    "            return self.items[-1].value\r\n",
    "    def __len__(self):\r\n",
    "        return self.size()\r\n",
    "    def size(self):\r\n",
    "        return len(self.items)  \r\n",
    "\r\n",
    "\r\n",
    "class Node (object):\r\n",
    "    def __init__(self,value):\r\n",
    "        self.value = value\r\n",
    "        self.left = None\r\n",
    "        self.right = None \r\n",
    "\r\n",
    "class BinaryTree(object):\r\n",
    "    def __init__(self,root):\r\n",
    "        self.root = Node(root)\r\n",
    "    \r\n",
    "    def print_tree(self,traversal_type):\r\n",
    "        if traversal_type == 'preorder':\r\n",
    "            return self.preorder_print(tree.root,\"\")\r\n",
    "        elif traversal_type == 'inorder':\r\n",
    "            return self.inorder_print(tree.root,\"\")   \r\n",
    "        elif traversal_type == 'postorder':\r\n",
    "            return self.postorder_print(tree.root,\"\") \r\n",
    "\r\n",
    "        elif traversal_type =='levelorder':\r\n",
    "            return self.levelorder_print(tree.root)         \r\n",
    "        else:\r\n",
    "            print(\"Traversal type is not supported\")    \r\n",
    "            return False\r\n",
    "\r\n",
    "    def preorder_print(self,start,traversal):\r\n",
    "        \"\"\" root -left-right\"\"\"  \r\n",
    "        if start: # si el nodo en el que estamos es no None\r\n",
    "            traversal += (str(start.value)+ \"-\")\r\n",
    "            traversal = self.preorder_print(start.left,traversal)\r\n",
    "            traversal = self.preorder_print(start.right,traversal)\r\n",
    "        return traversal  \r\n",
    "        # comenzamos en la raíz la marcamos vamos hacia la izquierda marcamos lo más que podamos, luego derecha marcamos , subimos y repetimos  \r\n",
    "\r\n",
    "    def inorder_print(self,start,traversal):\r\n",
    "        \"\"\" left-root-right\"\"\"  \r\n",
    "        if start: # si el nodo en el que estamos es no None\r\n",
    "            traversal = self.inorder_print(start.left,traversal)\r\n",
    "            traversal += (str(start.value)+ \"-\")\r\n",
    "            traversal = self.inorder_print(start.right,traversal)\r\n",
    "        return traversal  \r\n",
    "        # comenzamos en la izquierda marcamos vamos al parent marcamos  luego derecha marcamos  y subimos \r\n",
    "\r\n",
    "    def postorder_print(self,start,traversal):\r\n",
    "        \"\"\" left-right-root\"\"\"  \r\n",
    "        if start: # si el nodo en el que estamos es no None\r\n",
    "            traversal = self.postorder_print(start.left,traversal)\r\n",
    "            traversal = self.postorder_print(start.right,traversal)\r\n",
    "            traversal += (str(start.value)+ \"-\")\r\n",
    "        return traversal  \r\n",
    "        # comenzamos en la izquierda (marcamos) , luego derecha (sin marcar aún el root) y luego root   ahí si lo marcamos     \r\n",
    "    \r\n",
    "    def levelorder_print(self,start):\r\n",
    "        if start is None:\r\n",
    "            return \r\n",
    "        queue = Queue()\r\n",
    "        queue.enqueue(start)\r\n",
    "        traversal = \"\"\r\n",
    "        while len(queue) >0:\r\n",
    "            traversal += str(queue.peek()) + \"-\"\r\n",
    "            node = queue.dequeue()\r\n",
    "            if node.left:\r\n",
    "                queue.enqueue(node.left) # aca vuelve y llena el queue con el left \r\n",
    "            if node.right:\r\n",
    "                queue.enqueue(node.right)  # y luego con el right   \r\n",
    "        return traversal            \r\n",
    "\r\n",
    "tree = BinaryTree(1)\r\n",
    "tree.root.left = Node(2)\r\n",
    "tree.root.right = Node(3)\r\n",
    "tree.root.left.left = Node(4)\r\n",
    "tree.root.left.right = Node(5)\r\n",
    "print(\" the preorder traversal order is:\" + tree.print_tree(\"preorder\"))\r\n",
    "print(\" the inorder traversal order is:\" + tree.print_tree(\"inorder\"))\r\n",
    "print(\" the postorder traversal order is:\" + tree.print_tree(\"postorder\"))\r\n",
    "print(\" the levelorder traversal order is:\" + tree.print_tree(\"levelorder\"))\r\n",
    "# el árbol es :\r\n",
    "\r\n",
    "#         1\r\n",
    "#      2     3 \r\n",
    "#    4   5"
   ],
   "outputs": [
    {
     "output_type": "stream",
     "name": "stdout",
     "text": [
      " the preorder traversal order is:1-2-4-5-3-\n",
      " the inorder traversal order is:4-2-5-1-3-\n",
      " the postorder traversal order is:4-5-2-3-1-\n",
      " the levelorder traversal order is:1-2-3-4-5-\n"
     ]
    }
   ],
   "metadata": {}
  },
  {
   "cell_type": "code",
   "execution_count": 17,
   "source": [
    "import collections\r\n",
    "\r\n",
    "def sumOfDistancesInTree(N, edges):\r\n",
    "    graph = collections.defaultdict(set)\r\n",
    "    for u, v in edges:\r\n",
    "        graph[u].add(v) # como que esto crea la gráfica \r\n",
    "        graph[v].add(u)\r\n",
    "\r\n",
    "    count = [1] * N # una lista de tamaño N (numero de nodos) con 1's\r\n",
    "    ans = [0] * N # una lista de tamaño N (numero de nodos con 0's)\r\n",
    "    def dfs(node = 0, parent = None): # nodo es 0 y parent no hay \r\n",
    "        for child in graph[node]:# para cada child en el node que estoy parado \r\n",
    "            if child != parent: # si el child es diferente al parent \r\n",
    "                dfs(child, node) # aplique esta función \r\n",
    "                count[node] += count[child] # el número de nodos en el subárbol desde donde estoy parado \r\n",
    "                ans[node] += ans[child] + count[child] # answer e ese nodo es ans en su hijo + el número de subnodos del hijo \r\n",
    "\r\n",
    "    def dfs2(node = 0, parent = None):\r\n",
    "        for child in graph[node]: \r\n",
    "            if child != parent:\r\n",
    "                ans[child] = ans[node] - count[child] + N - count[child]\r\n",
    "                dfs2(child, node)\r\n",
    "\r\n",
    "    dfs()\r\n",
    "    dfs2()\r\n",
    "    return ans\r\n",
    "\r\n"
   ],
   "outputs": [],
   "metadata": {}
  },
  {
   "cell_type": "code",
   "execution_count": 21,
   "source": [
    "ans = sumOfDistancesInTree(6,[[0,1],[0,2],[2,3],[2,4],[2,5]]) \r\n",
    "print(ans)  \r\n",
    "\r\n",
    "\r\n",
    "                               "
   ],
   "outputs": [
    {
     "output_type": "error",
     "ename": "SyntaxError",
     "evalue": "invalid syntax (<ipython-input-21-7f697e95f6c1>, line 5)",
     "traceback": [
      "\u001b[1;36m  File \u001b[1;32m\"<ipython-input-21-7f697e95f6c1>\"\u001b[1;36m, line \u001b[1;32m5\u001b[0m\n\u001b[1;33m    print(\"u es:\" u)\u001b[0m\n\u001b[1;37m                  ^\u001b[0m\n\u001b[1;31mSyntaxError\u001b[0m\u001b[1;31m:\u001b[0m invalid syntax\n"
     ]
    }
   ],
   "metadata": {}
  },
  {
   "cell_type": "markdown",
   "source": [
    "Stacks: son como las listas. \r\n",
    "\r\n",
    "Si a un stack le hacemos append este se adiciona al final del stack \r\n",
    "\r\n",
    "Si a un stack le hacmos pop este remueve el último de la lista \r\n",
    "\r\n",
    "Si le hacemos peek muestra el último elemento de la lista pero sin removerlo. \r\n",
    "\r\n",
    "LIFO : last in first out . El último elemento que se adiciona es el primero que se elimina \r\n",
    "\r\n",
    "Esta estructura de datos es la que se utiliza cuando hacemos uso del método DEPTH FIRST SEARCH DFS \r\n",
    "\r\n",
    "Se utiliza para encontrar un camino determinado. \r\n",
    "\r\n",
    "\r\n",
    "Queue FIFO \r\n",
    "\r\n",
    " : primero que entra es el primero que sale : first in first out : cómo las ordenes dentro de un restaurante. \r\n",
    "\r\n",
    "Enqueue adicionar algo al fin de la línea. \r\n",
    "\r\n",
    "Dequeue : elmininar algo del principio de la lista. \r\n",
    "\r\n",
    "Breath first search es lo que se utiliza con este algoritmo. \r\n",
    "\r\n",
    "Se utiliza para saber si existe un camino. \r\n",
    "\r\n",
    "Level order traversal of a tree. \r\n",
    "\r\n",
    "\r\n",
    "\r\n",
    "\r\n",
    "\r\n",
    "\r\n"
   ],
   "metadata": {}
  },
  {
   "cell_type": "markdown",
   "source": [
    "DYNAMIC PROGRAMMING \r\n",
    "\r\n",
    "5 Categorías principales de problemas para resolver. \r\n",
    "\r\n",
    "1) Finonacci \r\n",
    "\r\n",
    "0 1 1 2 3 4 \r\n",
    "\r\n",
    "f(n) = f(n-1)+ f(n-2)\r\n",
    "\r\n",
    "Hay que guardar los valores que vayamos encontrando \r\n",
    "\r\n",
    "Hacemos los calculos de atrás para adelante \r\n",
    "\r\n",
    "Para calcular f(4)\r\n",
    "\r\n",
    "f(2) =f (1)+ f(0)\r\n",
    "f(3) = f(2) + f(1)"
   ],
   "metadata": {}
  },
  {
   "cell_type": "code",
   "execution_count": 2,
   "source": [
    "# Climbing stairs:\r\n",
    "\r\n",
    "# estamo subiendo una escalera y toma n pasos en llegar a la cima \r\n",
    "\r\n",
    "# Podemos subir de a un escalon o dos\r\n",
    "\r\n",
    "# de cuantas maneras posibles podemos llegar a la cima \r\n",
    "\r\n",
    "def climb (n):\r\n",
    "    one,two = 1,1\r\n",
    "    for i in range(n-1):\r\n",
    "        temp = one\r\n",
    "        one += two\r\n",
    "        two = temp\r\n",
    "    return one    \r\n",
    "        \r\n",
    "\r\n",
    "climb(5)"
   ],
   "outputs": [
    {
     "output_type": "execute_result",
     "data": {
      "text/plain": [
       "8"
      ]
     },
     "metadata": {},
     "execution_count": 2
    }
   ],
   "metadata": {}
  },
  {
   "cell_type": "code",
   "execution_count": null,
   "source": [
    "def wordbreak(s, wordDict):\r\n",
    "    dp = [False]*(len(s)+1)\r\n",
    "    dp[len(s)]= True\r\n",
    "    \r\n",
    "    for i in range(len(s),-1,-1,-1):\r\n",
    "        for w in wordDict:\r\n",
    "            if (i+w) <= len(s) and s[i:i+len(w)] == w:\r\n",
    "                dp[i] = dp[i+len(w)]\r\n",
    "            if dp[i]:\r\n",
    "                break\r\n",
    "    return dp[0]            \r\n",
    "                \r\n",
    "wordbreak(s = \"applepenapple\", wordDict = [\"apple\",\"pen\"])                \r\n",
    "        \r\n",
    "    "
   ],
   "outputs": [],
   "metadata": {}
  }
 ],
 "metadata": {
  "orig_nbformat": 4,
  "language_info": {
   "name": "python",
   "version": "3.8.10",
   "mimetype": "text/x-python",
   "codemirror_mode": {
    "name": "ipython",
    "version": 3
   },
   "pygments_lexer": "ipython3",
   "nbconvert_exporter": "python",
   "file_extension": ".py"
  },
  "kernelspec": {
   "name": "python3",
   "display_name": "Python 3.8.10 64-bit (windows store)"
  },
  "interpreter": {
   "hash": "e7af1529e4d76ec781ed9838a77aa0fe5e785493bea653a6db3a304e31c3c8e6"
  }
 },
 "nbformat": 4,
 "nbformat_minor": 2
}